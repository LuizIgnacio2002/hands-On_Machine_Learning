{
 "cells": [
  {
   "cell_type": "code",
   "execution_count": 1,
   "id": "e1e4b5de-bb94-47be-a256-caa0bf2eba6f",
   "metadata": {},
   "outputs": [
    {
     "name": "stdout",
     "output_type": "stream",
     "text": [
      "dict_keys(['data', 'target', 'frame', 'categories', 'feature_names', 'target_names', 'DESCR', 'details', 'url'])\n"
     ]
    }
   ],
   "source": [
    "from sklearn.datasets import fetch_openml\n",
    "\n",
    "# Load the MNIST dataset\n",
    "mnist = fetch_openml('mnist_784', version=1, parser='auto')\n",
    "\n",
    "# Print the keys of the dataset\n",
    "print(mnist.keys())\n"
   ]
  },
  {
   "cell_type": "code",
   "execution_count": 2,
   "id": "648a9688-4a5e-47fd-8b28-03103f1ad49a",
   "metadata": {},
   "outputs": [
    {
     "data": {
      "text/plain": [
       "(70000, 784)"
      ]
     },
     "execution_count": 2,
     "metadata": {},
     "output_type": "execute_result"
    }
   ],
   "source": [
    "X, y = mnist[\"data\"], mnist[\"target\"]\n",
    "X.shape"
   ]
  },
  {
   "cell_type": "code",
   "execution_count": 3,
   "id": "e6a3fab7-391f-42fe-b176-d8cc4678179e",
   "metadata": {},
   "outputs": [
    {
     "data": {
      "text/plain": [
       "(70000,)"
      ]
     },
     "execution_count": 3,
     "metadata": {},
     "output_type": "execute_result"
    }
   ],
   "source": [
    "y.shape"
   ]
  },
  {
   "cell_type": "markdown",
   "id": "618be0a2-f098-46a9-9a9d-bc8e912b4da9",
   "metadata": {},
   "source": [
    "There are 70,000 images, and each image has 784 features. This is because each image\r\n",
    "is 28 × 28 pixels, and each feature simply represents one pixel’s intensity, from 0\r\n",
    "(white) to 255 (black). "
   ]
  },
  {
   "cell_type": "code",
   "execution_count": 4,
   "id": "6007a256-944b-4ec0-9375-e78c5d83a4af",
   "metadata": {},
   "outputs": [
    {
     "data": {
      "image/png": "[encoded data removed]",
      "text/plain": [
       "<Figure size 640x480 with 1 Axes>"
      ]
     },
     "metadata": {},
     "output_type": "display_data"
    }
   ],
   "source": [
    "import matplotlib.pyplot as plt\n",
    "\n",
    "# Select the first row of the DataFrame and store it in the variable 'some_digit'\n",
    "some_digit = X.iloc[0]\n",
    "\n",
    "# Convert the 'some_digit' Pandas Series to a NumPy array and reshape it to a 28x28 matrix\n",
    "some_digit_image = some_digit.to_numpy().reshape(28, 28)\n",
    "\n",
    "# Display the image using Matplotlib's imshow function\n",
    "# Set the color map to \"binary\" (black and white)\n",
    "plt.imshow(some_digit_image, cmap=\"binary\")\n",
    "plt.axis(\"off\")\n",
    "plt.show()\n"
   ]
  },
  {
   "cell_type": "code",
   "execution_count": 5,
   "id": "479c15cd-405f-477e-b383-724659b77f85",
   "metadata": {},
   "outputs": [
    {
     "data": {
      "text/plain": [
       "'5'"
      ]
     },
     "execution_count": 5,
     "metadata": {},
     "output_type": "execute_result"
    }
   ],
   "source": [
    "y[0]"
   ]
  },
  {
   "cell_type": "markdown",
   "id": "390a24a6-57a1-4103-8f46-74e163bea1ae",
   "metadata": {},
   "source": [
    "Note that the label is a string. Most ML algorithms expect numbers, so let’s cast y to\r\n",
    "integer:"
   ]
  },
  {
   "cell_type": "code",
   "execution_count": 6,
   "id": "071944ff-a1f7-4673-9155-a02bbc3284be",
   "metadata": {},
   "outputs": [],
   "source": [
    "import numpy as np\n",
    "\n",
    "# Assuming 'y' is a variable you want to convert to uint8\n",
    "y = y.astype(np.uint8)\n"
   ]
  },
  {
   "cell_type": "code",
   "execution_count": 7,
   "id": "417aa345-c074-44e6-a71a-0f0e62953667",
   "metadata": {},
   "outputs": [
    {
     "data": {
      "text/plain": [
       "5"
      ]
     },
     "execution_count": 7,
     "metadata": {},
     "output_type": "execute_result"
    }
   ],
   "source": [
    "y[0]"
   ]
  },
  {
   "cell_type": "markdown",
   "id": "d89e089c-cfb1-40d7-906f-9e098a01778b",
   "metadata": {},
   "source": [
    " The MNIST dataset is actually already split into a training set (the first 60,000\r\n",
    "images) and a test set (the last 10,000 images)\n",
    "The training set is already shuffled for us, which is good because this guarantees that\r\n",
    "all cross-validation folds will be similar (you don’t want one fold to be missing some\r\n",
    "digits). Moreover, some learning algorithms are sensitive to the order of the training\r\n",
    "instances, and they perform poorly if they get many similar instances in a row. Shuf‐\r\n",
    "fling the dataset ensures that this won’t ha\n",
    "pShuffling may be a bad idea in some contexts—for example, if you are working on time series data (such as \n",
    "stock market prices or weather conditions).spen:\r"
   ]
  },
  {
   "cell_type": "code",
   "execution_count": 8,
   "id": "3e09d15b-8b61-4139-b792-7995ecabb246",
   "metadata": {},
   "outputs": [],
   "source": [
    "X_train, X_test, y_train, y_test = X[:60000], X[60000:], y[:60000], y[60000:]\n"
   ]
  },
  {
   "cell_type": "markdown",
   "id": "406373ca-0b0a-45c6-8a16-6eb76cd36b29",
   "metadata": {},
   "source": [
    "## Training a Binary Classifier"
   ]
  },
  {
   "cell_type": "code",
   "execution_count": 9,
   "id": "c76ebdf3-d5aa-4b41-9c8f-b05074b9bc97",
   "metadata": {},
   "outputs": [],
   "source": [
    "y_train_5 = (y_train == 5) # True for all 5s, False for all other digits\n",
    "# The result is assigned to the variable y_train_5. So, y_train_5 is a boolean\n",
    "# array of the same length as y_train, where each element is True if the \n",
    "# corresponding digit is a 5 and False otherwise.\n",
    "y_test_5 = (y_test == 5)"
   ]
  },
  {
   "cell_type": "code",
   "execution_count": 10,
   "id": "d4800bdc-6a8b-4fc9-84ba-0b7ba2a15024",
   "metadata": {},
   "outputs": [
    {
     "data": {
      "text/html": [
       "<style>#sk-container-id-1 {color: black;}#sk-container-id-1 pre{padding: 0;}#sk-container-id-1 div.sk-toggleable {background-color: white;}#sk-container-id-1 label.sk-toggleable__label {cursor: pointer;display: block;width: 100%;margin-bottom: 0;padding: 0.3em;box-sizing: border-box;text-align: center;}#sk-container-id-1 label.sk-toggleable__label-arrow:before {content: \"▸\";float: left;margin-right: 0.25em;color: #696969;}#sk-container-id-1 label.sk-toggleable__label-arrow:hover:before {color: black;}#sk-container-id-1 div.sk-estimator:hover label.sk-toggleable__label-arrow:before {color: black;}#sk-container-id-1 div.sk-toggleable__content {max-height: 0;max-width: 0;overflow: hidden;text-align: left;background-color: #f0f8ff;}#sk-container-id-1 div.sk-toggleable__content pre {margin: 0.2em;color: black;border-radius: 0.25em;background-color: #f0f8ff;}#sk-container-id-1 input.sk-toggleable__control:checked~div.sk-toggleable__content {max-height: 200px;max-width: 100%;overflow: auto;}#sk-container-id-1 input.sk-toggleable__control:checked~label.sk-toggleable__label-arrow:before {content: \"▾\";}#sk-container-id-1 div.sk-estimator input.sk-toggleable__control:checked~label.sk-toggleable__label {background-color: #d4ebff;}#sk-container-id-1 div.sk-label input.sk-toggleable__control:checked~label.sk-toggleable__label {background-color: #d4ebff;}#sk-container-id-1 input.sk-hidden--visually {border: 0;clip: rect(1px 1px 1px 1px);clip: rect(1px, 1px, 1px, 1px);height: 1px;margin: -1px;overflow: hidden;padding: 0;position: absolute;width: 1px;}#sk-container-id-1 div.sk-estimator {font-family: monospace;background-color: #f0f8ff;border: 1px dotted black;border-radius: 0.25em;box-sizing: border-box;margin-bottom: 0.5em;}#sk-container-id-1 div.sk-estimator:hover {background-color: #d4ebff;}#sk-container-id-1 div.sk-parallel-item::after {content: \"\";width: 100%;border-bottom: 1px solid gray;flex-grow: 1;}#sk-container-id-1 div.sk-label:hover label.sk-toggleable__label {background-color: #d4ebff;}#sk-container-id-1 div.sk-serial::before {content: \"\";position: absolute;border-left: 1px solid gray;box-sizing: border-box;top: 0;bottom: 0;left: 50%;z-index: 0;}#sk-container-id-1 div.sk-serial {display: flex;flex-direction: column;align-items: center;background-color: white;padding-right: 0.2em;padding-left: 0.2em;position: relative;}#sk-container-id-1 div.sk-item {position: relative;z-index: 1;}#sk-container-id-1 div.sk-parallel {display: flex;align-items: stretch;justify-content: center;background-color: white;position: relative;}#sk-container-id-1 div.sk-item::before, #sk-container-id-1 div.sk-parallel-item::before {content: \"\";position: absolute;border-left: 1px solid gray;box-sizing: border-box;top: 0;bottom: 0;left: 50%;z-index: -1;}#sk-container-id-1 div.sk-parallel-item {display: flex;flex-direction: column;z-index: 1;position: relative;background-color: white;}#sk-container-id-1 div.sk-parallel-item:first-child::after {align-self: flex-end;width: 50%;}#sk-container-id-1 div.sk-parallel-item:last-child::after {align-self: flex-start;width: 50%;}#sk-container-id-1 div.sk-parallel-item:only-child::after {width: 0;}#sk-container-id-1 div.sk-dashed-wrapped {border: 1px dashed gray;margin: 0 0.4em 0.5em 0.4em;box-sizing: border-box;padding-bottom: 0.4em;background-color: white;}#sk-container-id-1 div.sk-label label {font-family: monospace;font-weight: bold;display: inline-block;line-height: 1.2em;}#sk-container-id-1 div.sk-label-container {text-align: center;}#sk-container-id-1 div.sk-container {/* jupyter's `normalize.less` sets `[hidden] { display: none; }` but bootstrap.min.css set `[hidden] { display: none !important; }` so we also need the `!important` here to be able to override the default hidden behavior on the sphinx rendered scikit-learn.org. See: https://github.com/scikit-learn/scikit-learn/issues/21755 */display: inline-block !important;position: relative;}#sk-container-id-1 div.sk-text-repr-fallback {display: none;}</style><div id=\"sk-container-id-1\" class=\"sk-top-container\"><div class=\"sk-text-repr-fallback\"><pre>SGDClassifier(random_state=42)</pre><b>In a Jupyter environment, please rerun this cell to show the HTML representation or trust the notebook. <br />On GitHub, the HTML representation is unable to render, please try loading this page with nbviewer.org.</b></div><div class=\"sk-container\" hidden><div class=\"sk-item\"><div class=\"sk-estimator sk-toggleable\"><input class=\"sk-toggleable__control sk-hidden--visually\" id=\"sk-estimator-id-1\" type=\"checkbox\" checked><label for=\"sk-estimator-id-1\" class=\"sk-toggleable__label sk-toggleable__label-arrow\">SGDClassifier</label><div class=\"sk-toggleable__content\"><pre>SGDClassifier(random_state=42)</pre></div></div></div></div></div>"
      ],
      "text/plain": [
       "SGDClassifier(random_state=42)"
      ]
     },
     "execution_count": 10,
     "metadata": {},
     "output_type": "execute_result"
    }
   ],
   "source": [
    "from sklearn.linear_model import SGDClassifier\n",
    "sgd_clf = SGDClassifier(random_state=42)\n",
    "sgd_clf.fit(X_train, y_train_5)\n"
   ]
  },
  {
   "cell_type": "markdown",
   "id": "639c9ac1-b47b-4f92-95bb-865aa0d0cd6d",
   "metadata": {},
   "source": [
    "The SGDClassifier relies on randomness during training (hence\n",
    "the name “stochastic”). If you want reproducible results, you\n",
    "should set the random_state parameter."
   ]
  },
  {
   "cell_type": "code",
   "execution_count": 11,
   "id": "3eb8c9eb-c0c6-44f9-bc5c-ff621f67e729",
   "metadata": {},
   "outputs": [
    {
     "name": "stderr",
     "output_type": "stream",
     "text": [
      "/workspaces/hands-On_Machine_Learning/venv/lib/python3.10/site-packages/sklearn/base.py:465: UserWarning: X does not have valid feature names, but SGDClassifier was fitted with feature names\n",
      "  warnings.warn(\n"
     ]
    },
    {
     "data": {
      "text/plain": [
       "array([ True])"
      ]
     },
     "execution_count": 11,
     "metadata": {},
     "output_type": "execute_result"
    }
   ],
   "source": [
    "sgd_clf.predict([some_digit])\n"
   ]
  },
  {
   "cell_type": "markdown",
   "id": "ca884904-9817-46d4-89cf-1c7ebb3219d1",
   "metadata": {},
   "source": [
    "# Performance Measures"
   ]
  },
  {
   "cell_type": "markdown",
   "id": "244d0a71-0c84-4f81-8912-e5634bb8cae8",
   "metadata": {},
   "source": [
    "## Measuring Accuracy Using Cross-Validation"
   ]
  },
  {
   "cell_type": "code",
   "execution_count": 12,
   "id": "43957120-46b5-402a-af9f-477ef18572cb",
   "metadata": {},
   "outputs": [
    {
     "data": {
      "text/plain": [
       "array([0.95035, 0.96035, 0.9604 ])"
      ]
     },
     "execution_count": 12,
     "metadata": {},
     "output_type": "execute_result"
    }
   ],
   "source": [
    "from sklearn.model_selection import cross_val_score\n",
    "cross_val_score(sgd_clf, X_train, y_train_5, cv=3, scoring=\"accuracy\")"
   ]
  },
  {
   "cell_type": "code",
   "execution_count": 13,
   "id": "f5048d7e-4552-496c-b24c-97fe2333c999",
   "metadata": {},
   "outputs": [],
   "source": [
    "# Import the BaseEstimator class from scikit-learn\n",
    "from sklearn.base import BaseEstimator\n",
    "\n",
    "# Create a custom classifier class named Never5Classifier that inherits from BaseEstimator\n",
    "class Never5Classifier(BaseEstimator):\n",
    "    # Define the fit method for the classifier\n",
    "    def fit(self, X, y=None):\n",
    "        # The fit method doesn't do anything in this case, it just returns the instance itself\n",
    "        return self\n",
    "\n",
    "    # Define the predict method for the classifier\n",
    "    def predict(self, X):\n",
    "        # The predict method returns an array of zeros with the same length as the input X\n",
    "        # It predicts that none of the instances are the digit 5\n",
    "        return np.zeros((len(X), 1), dtype=bool)\n"
   ]
  },
  {
   "cell_type": "code",
   "execution_count": 14,
   "id": "5282cffe-3aa7-469d-b83a-46178c0d0e8e",
   "metadata": {},
   "outputs": [
    {
     "data": {
      "text/plain": [
       "array([0.91125, 0.90855, 0.90915])"
      ]
     },
     "execution_count": 14,
     "metadata": {},
     "output_type": "execute_result"
    }
   ],
   "source": [
    "# Create an instance of the Never5Classifier\n",
    "never_5_clf = Never5Classifier()\n",
    "\n",
    "# Use cross_val_score to perform cross-validation and calculate accuracy scores\n",
    "# This function takes the classifier (never_5_clf), the input features (X_train),\n",
    "# the target labels (y_train_5), the number of folds (cv=3), and the scoring metric (\"accuracy\")\n",
    "cross_val_score(never_5_clf, X_train, y_train_5, cv=3, scoring=\"accuracy\")\n"
   ]
  },
  {
   "cell_type": "markdown",
   "id": "501a1578-2fcd-4b10-bbab-f51600ad6789",
   "metadata": {},
   "source": [
    "That’s right, it has over 90% accuracy! This is simply because only about 10% of the\r\n",
    "images are 5s, so if you always guess that an image is not a 5, you will be right about\r\n",
    "90% of the time. Beats Nostradam\n",
    "\n",
    "This demonstrates why accuracy is generally not the preferred performance measure\r\n",
    "for classifiers, especially when you are dealing with skewed datasets (i.e., when some\r\n",
    "classes are much more frequent than others).\r",
    "us"
   ]
  },
  {
   "cell_type": "code",
   "execution_count": 15,
   "id": "260e16c6-f38e-4710-8f86-707769527011",
   "metadata": {},
   "outputs": [],
   "source": [
    "# Import the cross_val_predict function from scikit-learn\n",
    "from sklearn.model_selection import cross_val_predict\n",
    "\n",
    "# Use cross_val_predict to perform cross-validated predictions\n",
    "# This function takes the classifier (sgd_clf), the input features (X_train),\n",
    "# the target labels (y_train_5), the number of folds (cv=3)\n",
    "y_train_pred = cross_val_predict(sgd_clf, X_train, y_train_5, cv=3)\n"
   ]
  },
  {
   "cell_type": "code",
   "execution_count": 16,
   "id": "460ddfbc-2396-4ffc-8a8f-aa03fa98e6e0",
   "metadata": {},
   "outputs": [
    {
     "data": {
      "text/plain": [
       "array([[53892,   687],\n",
       "       [ 1891,  3530]])"
      ]
     },
     "execution_count": 16,
     "metadata": {},
     "output_type": "execute_result"
    }
   ],
   "source": [
    "# Import the confusion_matrix function from scikit-learn\n",
    "from sklearn.metrics import confusion_matrix\n",
    "\n",
    "# Compute the confusion matrix using the true labels (y_train_5) and predicted labels (y_train_pred)\n",
    "confusion_matrix(y_train_5, y_train_pred)\n"
   ]
  },
  {
   "cell_type": "markdown",
   "id": "05f8cf3b-4fd5-4af4-8951-28f985699e2a",
   "metadata": {},
   "source": [
    "Each row in a confusion matrix represents an actual class, while each column repre‐\r\n",
    "sents a predicted class. The first row of this matrix considers non-5 images (the nega‐\r\n",
    "tive class): 53,057 of them were correctly classified as non-5s (they are called true\r\n",
    "negatives), while the remaining 1,522 were wrongly classified as 5s (false positives).\r\n",
    "The second row considers the images of 5s (the positive class): 1,325 were wrongly\r\n",
    "classified as non-5s (false negatives), while the remaining 4,096 were correctly classi‐\r\n",
    "fied as 5s (true positives). A perfect classifier would have only true positives and true\r\n",
    "negatives, so its confusion matrix would have nonzero values only on its main diago‐\r\n",
    "nal (top left to bottom right):\r"
   ]
  },
  {
   "cell_type": "code",
   "execution_count": 17,
   "id": "5fee6ea0-2d84-4e8c-854f-943b88b1b153",
   "metadata": {},
   "outputs": [
    {
     "data": {
      "text/plain": [
       "array([[54579,     0],\n",
       "       [    0,  5421]])"
      ]
     },
     "execution_count": 17,
     "metadata": {},
     "output_type": "execute_result"
    }
   ],
   "source": [
    "# Pretend we have perfect predictions (y_train_perfect_predictions is the same as y_train_5)\n",
    "y_train_perfect_predictions = y_train_5\n",
    "\n",
    "# Compute the confusion matrix using the true labels (y_train_5) and perfect predictions (y_train_perfect_predictions)\n",
    "confusion_matrix(y_train_5, y_train_perfect_predictions)\n"
   ]
  },
  {
   "cell_type": "markdown",
   "id": "fd7a388b-0607-4bab-b8e2-fab07ad40651",
   "metadata": {},
   "source": [
    "The confusion matrix gives you a lot of information, but sometimes you may prefer a\r\n",
    "more concise metric. An interesting one to look at is the accuracy of the positive pre‐\r\n",
    "dictions; this is called the precision of the classifier\n",
    "\n",
    "Equation 3-1. Precision\n",
    "\\begin{equation}\n",
    "\\text{Precision} = \\frac{\\text{TP}}{\\text{TP + FP}}\n",
    "\\end{equation}\n",
    "TP is the number of true positives, and FP is the number of false positives\n",
    "So precision is typically used\r\n",
    "along with another metric named recall, also called sensitivity or the true positive rate\r\n",
    "(TPR): this is the ratio of positive instances that are correctly detected by the classifi\n",
    "\n",
    "Equation 3-2. Recall\n",
    "\\begin{equation}\n",
    "\\text{recall} = \\frac{\\text{TP}}{\\text{TP + FN}}\n",
    "\\end{equation}\n",
    "\n",
    "FN is, of course, the number of false negatives\r\n",
    "er.\r\n"
   ]
  },
  {
   "cell_type": "markdown",
   "id": "8a073e83-44b9-46ff-a2ac-86cba697a0da",
   "metadata": {},
   "source": [
    "## Precision and Recall"
   ]
  },
  {
   "cell_type": "code",
   "execution_count": 18,
   "id": "ced0e7f9-f53a-4771-91f8-482bf09f749e",
   "metadata": {},
   "outputs": [
    {
     "data": {
      "text/plain": [
       "0.8370879772350012"
      ]
     },
     "execution_count": 18,
     "metadata": {},
     "output_type": "execute_result"
    }
   ],
   "source": [
    "# Import the precision_score and recall_score functions from scikit-learn\n",
    "from sklearn.metrics import precision_score, recall_score\n",
    "\n",
    "# Calculate precision score\n",
    "precision_score(y_train_5, y_train_pred) # == 4096 / (4096 + 1522)\n"
   ]
  },
  {
   "cell_type": "code",
   "execution_count": 19,
   "id": "a40a858e-03de-4ef8-92d0-201d41024588",
   "metadata": {},
   "outputs": [
    {
     "data": {
      "text/plain": [
       "0.6511713705958311"
      ]
     },
     "execution_count": 19,
     "metadata": {},
     "output_type": "execute_result"
    }
   ],
   "source": [
    "# Calculate recall score\n",
    "recall_score(y_train_5, y_train_pred)  # == 4096 / (4096 + 1325)"
   ]
  },
  {
   "cell_type": "markdown",
   "id": "7ef92e22-bf45-4a65-8ea7-51f1c0f3f522",
   "metadata": {},
   "source": [
    "When it claims an image represents a 5, it is correct only 83.7% of the time. More‐\n",
    "over, it only detects 65.1% of the 5s\n",
    "\n",
    "Recall is a crucial metric in scenarios where missing positive instances is more critical than having false positives. For example, in a medical diagnosis task, high recall would mean that the classifier is good at identifying most of the actual positive cases, even if it occasionally misclassifies some negative cases as positive."
   ]
  },
  {
   "cell_type": "markdown",
   "id": "6d62418a-a160-45b6-bc80-e1227a77aef9",
   "metadata": {},
   "source": [
    "It is often convenient to combine precision and recall into a single metric called the F1\n",
    "score, in particular if you need a simple way to compare two classifiers. The F1\n",
    " score is\n",
    "the harmonic mean of precision and recall"
   ]
  },
  {
   "cell_type": "code",
   "execution_count": 20,
   "id": "90420508-0dfe-4ae3-aa9d-e7c990a7f51b",
   "metadata": {},
   "outputs": [
    {
     "data": {
      "text/plain": [
       "0.7325171197343846"
      ]
     },
     "execution_count": 20,
     "metadata": {},
     "output_type": "execute_result"
    }
   ],
   "source": [
    "# Import the f1_score function from scikit-learn\n",
    "from sklearn.metrics import f1_score\n",
    "\n",
    "# Calculate the F1 score\n",
    "f1_score(y_train_5, y_train_pred)\n"
   ]
  },
  {
   "cell_type": "markdown",
   "id": "596a57d1-0f58-43fe-8ae7-916fd7eab4cb",
   "metadata": {},
   "source": [
    "The F1\r\n",
    "score favors classifiers that have similar precision and recall. This is not always\r\n",
    "what you want: in some contexts you mostly care about precision, and in other con‐\r\n",
    "texts you really care about recall. For example, if you trained a classifier to detect vid‐\r\n",
    "eos that are safe for kids, you would probably prefer a classifier that rejects many\r\n",
    "good videos (low recall) but keeps only safe ones (high precision), rather than a clas‐\r\n",
    "sifier that has a much higher recall but lets a few really bad videos show up in your\r\n",
    "product (in such cases, you may even want to add a human pipeline to check the clas‐\r\n",
    "sifier’s video selection). On the other hand, suppose you train a classifier to detect\r\n",
    "shoplifters in surveillance images: it is probably fine if your classifier has only 30%\r\n",
    "precision as long as it has 99% recall (sure, the security guards will get a few false\r\n",
    "alerts, but almost all shoplifters will g\n",
    "\n",
    "Unfortunately, you can’t have it both ways: increasing precision reduces recall, and\r\n",
    "vice versa. This is called the precision/recall trade-offet caught)."
   ]
  },
  {
   "cell_type": "markdown",
   "id": "3ec93fb2-03ec-403c-9353-1158e65360bd",
   "metadata": {},
   "source": [
    "## Precision/Recall Trade-off\n"
   ]
  },
  {
   "cell_type": "code",
   "execution_count": 21,
   "id": "3853d737-2e68-4fd4-b37a-88b63174527a",
   "metadata": {},
   "outputs": [
    {
     "name": "stderr",
     "output_type": "stream",
     "text": [
      "/workspaces/hands-On_Machine_Learning/venv/lib/python3.10/site-packages/sklearn/base.py:465: UserWarning: X does not have valid feature names, but SGDClassifier was fitted with feature names\n",
      "  warnings.warn(\n"
     ]
    },
    {
     "data": {
      "text/plain": [
       "array([2164.22030239])"
      ]
     },
     "execution_count": 21,
     "metadata": {},
     "output_type": "execute_result"
    }
   ],
   "source": [
    "# Assuming you have an instance 'some_digit'\n",
    "\n",
    "# Calculate the decision scores for the given instance using the decision_function method\n",
    "y_scores = sgd_clf.decision_function([some_digit])\n",
    "\n",
    "# Print or inspect the decision scores\n",
    "y_scores\n"
   ]
  },
  {
   "cell_type": "code",
   "execution_count": 22,
   "id": "d54da52d-ab97-4b64-8f6e-11f0c88d5897",
   "metadata": {},
   "outputs": [
    {
     "data": {
      "text/plain": [
       "array([ True])"
      ]
     },
     "execution_count": 22,
     "metadata": {},
     "output_type": "execute_result"
    }
   ],
   "source": [
    "threshold = 0\n",
    "y_some_digit_pred = (y_scores > threshold)\n",
    "y_some_digit_pred\n"
   ]
  },
  {
   "cell_type": "code",
   "execution_count": 23,
   "id": "f4937df8-6aa4-476f-8105-5c393470a07e",
   "metadata": {},
   "outputs": [
    {
     "data": {
      "text/plain": [
       "array([False])"
      ]
     },
     "execution_count": 23,
     "metadata": {},
     "output_type": "execute_result"
    }
   ],
   "source": [
    "threshold = 8000\n",
    "y_some_digit_pred = (y_scores > threshold)\n",
    "y_some_digit_pred"
   ]
  },
  {
   "cell_type": "markdown",
   "id": "6222c21d-aca5-46ec-a29d-d37aac182465",
   "metadata": {},
   "source": [
    "This confirms that raising the threshold decreases recall. The image actually repre‐\n",
    "sents a 5, and the classifier detects it when the threshold is 0, but it misses it when the\n",
    "threshold is increased to 8,000.\n"
   ]
  },
  {
   "cell_type": "code",
   "execution_count": 24,
   "id": "682acdad-80b5-4bf9-86b8-eef794b5bdb2",
   "metadata": {},
   "outputs": [],
   "source": [
    "# Use cross_val_predict to obtain cross-validated decision scores\n",
    "# for the training data using the decision_function method\n",
    "y_scores = cross_val_predict(sgd_clf, X_train, y_train_5, cv=3, method=\"decision_function\")\n"
   ]
  },
  {
   "cell_type": "code",
   "execution_count": 25,
   "id": "fa50759e-1dac-442f-a7d2-f02534cdfbb9",
   "metadata": {},
   "outputs": [
    {
     "data": {
      "image/png": "[encoded data removed]",
      "text/plain": [
       "<Figure size 640x480 with 1 Axes>"
      ]
     },
     "metadata": {},
     "output_type": "display_data"
    }
   ],
   "source": [
    "# Import the precision_recall_curve function from scikit-learn\n",
    "from sklearn.metrics import precision_recall_curve\n",
    "\n",
    "# Calculate precision, recall, and thresholds using precision_recall_curve\n",
    "precisions, recalls, thresholds = precision_recall_curve(y_train_5, y_scores)\n",
    "\n",
    "# Define a function to plot precision and recall versus threshold\n",
    "def plot_precision_recall_vs_threshold(precisions, recalls, thresholds):\n",
    "    # Plot precision versus threshold with a blue dashed line\n",
    "    plt.plot(thresholds, precisions[:-1], \"b--\", label=\"Precision\")\n",
    "    \n",
    "    # Plot recall versus threshold with a green solid line\n",
    "    plt.plot(thresholds, recalls[:-1], \"g-\", label=\"Recall\")\n",
    "    \n",
    "    # Additional code to highlight the threshold, add the legend, axis labels, and grid\n",
    "    # (Not provided in the given snippet, but should be added)\n",
    "\n",
    "# Call the defined function to plot precision and recall versus threshold\n",
    "plot_precision_recall_vs_threshold(precisions, recalls, thresholds)\n",
    "\n",
    "# Show the plot\n",
    "plt.show()\n"
   ]
  },
  {
   "cell_type": "code",
   "execution_count": 26,
   "id": "7fee281a-a24a-4941-86c1-5c8751ac78c2",
   "metadata": {},
   "outputs": [
    {
     "data": {
      "text/plain": [
       "3370.0194991439557"
      ]
     },
     "execution_count": 26,
     "metadata": {},
     "output_type": "execute_result"
    }
   ],
   "source": [
    "threshold_90_precision = thresholds[np.argmax(precisions >= 0.90)] # ~7816\n",
    "threshold_90_precision"
   ]
  },
  {
   "cell_type": "code",
   "execution_count": 27,
   "id": "af13f1ee-3776-44f8-989a-04531bc82fc7",
   "metadata": {},
   "outputs": [],
   "source": [
    "y_train_pred_90 = (y_scores >= threshold_90_precision)"
   ]
  },
  {
   "cell_type": "code",
   "execution_count": 28,
   "id": "d132dc56-d658-405b-aa22-69e10d047938",
   "metadata": {},
   "outputs": [
    {
     "data": {
      "text/plain": [
       "0.9000345901072293"
      ]
     },
     "execution_count": 28,
     "metadata": {},
     "output_type": "execute_result"
    }
   ],
   "source": [
    " precision_score(y_train_5, y_train_pred_90)"
   ]
  },
  {
   "cell_type": "code",
   "execution_count": 29,
   "id": "d45f2df9-ae67-4d54-a0c2-115b633f22b7",
   "metadata": {},
   "outputs": [
    {
     "data": {
      "text/plain": [
       "0.4799852425751706"
      ]
     },
     "execution_count": 29,
     "metadata": {},
     "output_type": "execute_result"
    }
   ],
   "source": [
    "recall_score(y_train_5, y_train_pred_90)"
   ]
  },
  {
   "cell_type": "markdown",
   "id": "207c321c-18ee-4e88-806f-36987857188b",
   "metadata": {},
   "source": [
    "If someone says, “Let’s reach 99% precision,” you should ask, “At\n",
    "what recall?”"
   ]
  },
  {
   "cell_type": "markdown",
   "id": "0061402e-06d5-4f87-83c3-5f229975af23",
   "metadata": {},
   "source": [
    "## The ROC Curve\n",
    "The receiver operating characteristic (ROC) curve is another common tool used with\n",
    "binary classifiers. It is very similar to the precision/recall curve, but instead of plot‐\n",
    "ting precision versus recall, the ROC curve plots the true positive rate (another name\n",
    "for recall) against the false positive rate (FPR). The FPR is the ratio of negative instan‐\n",
    "ces that are incorrectly classified as positive. It is equal to 1 – the true negative rate\n",
    "(TNR), which is the ratio of negative instances that are correctly classified as negative.\n",
    "The TNR is also called specificity. Hence, the ROC curve plots sensitivity (recall) ver‐\n",
    "sus 1 – specificity."
   ]
  },
  {
   "cell_type": "code",
   "execution_count": 30,
   "id": "d6be3459-c1fc-4fff-a513-d6d28724f21e",
   "metadata": {},
   "outputs": [
    {
     "data": {
      "image/png": "[encoded data removed]",
      "text/plain": [
       "<Figure size 640x480 with 1 Axes>"
      ]
     },
     "metadata": {},
     "output_type": "display_data"
    }
   ],
   "source": [
    "# Import the roc_curve function from scikit-learn\n",
    "from sklearn.metrics import roc_curve\n",
    "\n",
    "# Calculate the ROC curve values: False Positive Rate (fpr), True Positive Rate (tpr), and thresholds\n",
    "fpr, tpr, thresholds = roc_curve(y_train_5, y_scores)\n",
    "\n",
    "# Define a function to plot the ROC curve\n",
    "def plot_roc_curve(fpr, tpr, label=None):\n",
    "    # Plot the ROC curve with a solid line and add a label\n",
    "    plt.plot(fpr, tpr, linewidth=2, label=label)\n",
    "    \n",
    "    # Plot the dashed diagonal line representing a random classifier\n",
    "    plt.plot([0, 1], [0, 1], 'k--')  # Dashed diagonal\n",
    "    \n",
    "    # Additional code to add axis labels and grid\n",
    "    # (Not provided in the given snippet, but should be added)\n",
    "    # Placeholder for additional code\n",
    "    \n",
    "    # Placeholder for additional code:\n",
    "    # Add axis labels\n",
    "    plt.xlabel('False Positive Rate (FPR)')\n",
    "    plt.ylabel('True Positive Rate (TPR) or Recall')\n",
    "    \n",
    "    # Add grid\n",
    "    plt.grid(True)\n",
    "\n",
    "# Call the defined function to plot the ROC curve\n",
    "plot_roc_curve(fpr, tpr)\n",
    "\n",
    "# Show the plot\n",
    "plt.show()\n"
   ]
  },
  {
   "cell_type": "markdown",
   "id": "e58ef74f-28cb-4513-bbd1-c51e1d766a84",
   "metadata": {},
   "source": [
    "One way to compare classifiers is to measure the area under the curve (AUC). A per‐\n",
    "fect classifier will have a ROC AUC equal to 1, whereas a purely random classifier will\n",
    "have a ROC AUC equal to 0.5. Scikit-Learn provides a function to compute the ROC\n",
    "AUC:"
   ]
  },
  {
   "cell_type": "code",
   "execution_count": 31,
   "id": "eb4947c3-b440-460d-b636-b1e754b7d14f",
   "metadata": {},
   "outputs": [
    {
     "data": {
      "text/plain": [
       "0.9604938554008616"
      ]
     },
     "execution_count": 31,
     "metadata": {},
     "output_type": "execute_result"
    }
   ],
   "source": [
    "from sklearn.metrics import roc_auc_score\n",
    "roc_auc_score(y_train_5, y_scores)\n"
   ]
  },
  {
   "cell_type": "markdown",
   "id": "8493fdd4-5014-4c1e-abdb-0bd05a52cb2c",
   "metadata": {},
   "source": [
    "Since the ROC curve is so similar to the precision/recall (PR)\n",
    "curve, you may wonder how to decide which one to use. As a rule\n",
    "of thumb, you should prefer the PR curve whenever the positive\n",
    "class is rare or when you care more about the false positives than\n",
    "the false negatives. Otherwise, use the ROC curve. For example,\n",
    "looking at the previous ROC curve (and the ROC AUC score), you\n",
    "may think that the classifier is really good. But this is mostly\n",
    "because there are few positives (5s) compared to the negatives\n",
    "(non-5s). In contrast, the PR curve makes it clear that the classifier\n",
    "has room for improvement (the curve could be closer to the top\u0002left corner)."
   ]
  },
  {
   "cell_type": "code",
   "execution_count": 32,
   "id": "a49e93b1-cb02-4baf-9d1e-82313cbf2aad",
   "metadata": {},
   "outputs": [
    {
     "data": {
      "image/png": "[encoded data removed]",
      "text/plain": [
       "<Figure size 640x480 with 1 Axes>"
      ]
     },
     "metadata": {},
     "output_type": "display_data"
    }
   ],
   "source": [
    "# Import RandomForestClassifier from scikit-learn\n",
    "from sklearn.ensemble import RandomForestClassifier\n",
    "\n",
    "# Create a RandomForestClassifier with a fixed random state for reproducibility\n",
    "forest_clf = RandomForestClassifier(random_state=42)\n",
    "\n",
    "# Use cross_val_predict to obtain class probabilities (predict_proba) for each instance\n",
    "y_probas_forest = cross_val_predict(forest_clf, X_train, y_train_5, cv=3, method=\"predict_proba\")\n",
    "\n",
    "# The roc_curve() function expects labels and scores, but instead of scores, use class probabilities\n",
    "# Extract the probabilities of the positive class as the scores\n",
    "y_scores_forest = y_probas_forest[:, 1]  # score = probability of the positive class\n",
    "\n",
    "# Use roc_curve to compute False Positive Rate (fpr), True Positive Rate (tpr), and thresholds\n",
    "fpr_forest, tpr_forest, thresholds_forest = roc_curve(y_train_5, y_scores_forest)\n",
    "\n",
    "# Plot the ROC curve for the Stochastic Gradient Descent (SGD) classifier with a blue dotted line\n",
    "plt.plot(fpr, tpr, \"b:\", label=\"SGD\")\n",
    "\n",
    "# Plot the ROC curve for the Random Forest classifier with a solid line\n",
    "plot_roc_curve(fpr_forest, tpr_forest, \"Random Forest\")\n",
    "\n",
    "# Add legend to the plot at the lower right position\n",
    "plt.legend(loc=\"lower right\")\n",
    "\n",
    "# Show the plot\n",
    "plt.show()\n"
   ]
  },
  {
   "cell_type": "markdown",
   "id": "bb19c80f-3907-4f95-8658-d1dba284900a",
   "metadata": {},
   "source": [
    "Comparing ROC curves: the Random Forest classifier is superior to the SGD\n",
    "classifier because its ROC curve is much closer to the top-left corner, and it has a greater\n",
    "AUC"
   ]
  },
  {
   "cell_type": "code",
   "execution_count": 33,
   "id": "3092f6b6-9f71-4967-8f30-dcc3cdcc18df",
   "metadata": {},
   "outputs": [],
   "source": [
    "#roc_auc_score(y_train_5, y_scores_forest)\n"
   ]
  },
  {
   "cell_type": "markdown",
   "id": "45c5abb5-858d-409a-bf3b-1f01aeaea3db",
   "metadata": {},
   "source": [
    "# Multiclass Classification\n",
    "Some algorithms (such as SGD classifiers, Random Forest classifiers, and naive Bayes\n",
    "classifiers) are capable of handling multiple classes natively. Others (such as Logistic\n",
    "Regression or Support Vector Machine classifiers) are strictly binary classifiers. How‐\n",
    "ever, there are various strategies that you can use to perform multiclass classification\n",
    "with multiple binary classifiers.\n",
    "One way to create a system that can classify the digit images into 10 classes (from 0 to\n",
    "9) is to train 10 binary classifiers, one for each digit (a 0-detector, a 1-detector, a 2-\n",
    "detector, and so on). Then when you want to classify an image, you get the decision\n",
    "score from each classifier for that image and you select the class whose classifier out‐\n",
    "puts the highest score. This is called the one-versus-the-rest (OvR) strategy (also called\n",
    "one-versus-all).\n",
    "\n",
    "Another strategy is to train a binary classifier for every pair of digits: one to distin‐\r\n",
    "guish 0s and 1s, another to distinguish 0s and 2s, another for 1s and 2s, and so on.\r\n",
    "This is called the one-versus-one (OvO) strategy. If there are N classes, you need to\r\n",
    "train N × (N – 1) / 2 classifiers. For the MNIST problem, this means training 45\r\n",
    "binary classifiers! When you want to classify an image, you have to run the image\r\n",
    "through all 45 classifiers and see which class wins the most duels. The main advan‐\r\n",
    "tage of OvO is that each classifier only needs to be trained on the part of the training\r\n",
    "set for the two classes that it must distinguish."
   ]
  },
  {
   "cell_type": "markdown",
   "id": "da1e542e-fcc2-48b5-9365-422bff28d5f3",
   "metadata": {},
   "source": [
    "## Error analysis"
   ]
  },
  {
   "cell_type": "markdown",
   "id": "dcd47803-2010-4558-bac3-d25d03f282b3",
   "metadata": {},
   "source": [
    "If this were a real project, you would now follow the steps in your Machine Learning\n",
    "project checklist (see Appendix B). You’d explore data preparation options, try out\n",
    "multiple models (shortlisting the best ones and fine-tuning their hyperparameters\n",
    "using GridSearchCV), and automate as much as possible. Here, we will assume that\n",
    "you have found a promising model and you want to find ways to improve it. One way\n",
    "to do this is to analyze the types of errors it makes"
   ]
  },
  {
   "cell_type": "code",
   "execution_count": null,
   "id": "099e5278-33e6-4915-acb3-09652c80eecf",
   "metadata": {},
   "outputs": [],
   "source": [
    "from sklearn.multiclass import OneVsRestClassifier\n",
    "from sklearn.svm import SVC\n",
    "\n",
    "# Create an instance of OneVsRestClassifier with Support Vector Classifier (SVC) as the base estimator\n",
    "ovr_clf = OneVsRestClassifier(SVC())\n",
    "\n",
    "# Fit the OneVsRestClassifier on the training data\n",
    "ovr_clf.fit(X_train, y_train)\n"
   ]
  },
  {
   "cell_type": "code",
   "execution_count": null,
   "id": "0b57ca01-f6bf-49c8-a729-1f163fc95bba",
   "metadata": {},
   "outputs": [],
   "source": [
    "ovr_clf.predict([some_digit])"
   ]
  },
  {
   "cell_type": "code",
   "execution_count": null,
   "id": "f59ea2ab-7b31-485c-9aba-d948f15c60a6",
   "metadata": {},
   "outputs": [],
   "source": [
    "len(ovr_clf.estimators_)"
   ]
  },
  {
   "cell_type": "code",
   "execution_count": null,
   "id": "484bc3c6-6458-49e0-9bb5-bf6012024b3e",
   "metadata": {},
   "outputs": [],
   "source": [
    "sgd_clf.fit(X_train, y_train)\n",
    "sgd_clf.fit(X_train, y_train)"
   ]
  },
  {
   "cell_type": "code",
   "execution_count": null,
   "id": "fbe95466-c12a-4732-8ec1-f7cef132b539",
   "metadata": {},
   "outputs": [],
   "source": [
    "sgd_clf.decision_function([some_digit])"
   ]
  },
  {
   "cell_type": "code",
   "execution_count": null,
   "id": "28ec0bae-0334-4a5e-9b29-8fc43106cd9e",
   "metadata": {},
   "outputs": [],
   "source": [
    "cross_val_score(sgd_clf, X_train, y_train, cv=3, scoring=\"accuracy\")"
   ]
  },
  {
   "cell_type": "code",
   "execution_count": null,
   "id": "75e1c0d8-dde3-46d8-9f9b-e7084d12f91c",
   "metadata": {},
   "outputs": [],
   "source": [
    "from sklearn.preprocessing import StandardScaler\n",
    "\n",
    "scaler = StandardScaler()\n",
    "X_train_scaled = scaler.fit_transform(X_train.astype(np.float64))\n",
    "cross_val_score(sgd_clf, X_train_scaled, y_train, cv=3, scoring=\"accuracy\")"
   ]
  },
  {
   "cell_type": "code",
   "execution_count": null,
   "id": "07e340d9-c1ae-4f14-bd12-844e0ffb48a6",
   "metadata": {},
   "outputs": [],
   "source": []
  },
  {
   "cell_type": "code",
   "execution_count": null,
   "id": "81384ce8-f933-40ac-88ee-7b56283b2826",
   "metadata": {},
   "outputs": [],
   "source": []
  }
 ],
 "metadata": {
  "kernelspec": {
   "display_name": "Python 3 (ipykernel)",
   "language": "python",
   "name": "python3"
  },
  "language_info": {
   "codemirror_mode": {
    "name": "ipython",
    "version": 3
   },
   "file_extension": ".py",
   "mimetype": "text/x-python",
   "name": "python",
   "nbconvert_exporter": "python",
   "pygments_lexer": "ipython3",
   "version": "3.10.13"
  }
 },
 "nbformat": 4,
 "nbformat_minor": 5
}
