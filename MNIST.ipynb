{
 "cells": [
  {
   "cell_type": "code",
   "execution_count": 4,
   "id": "e1e4b5de-bb94-47be-a256-caa0bf2eba6f",
   "metadata": {},
   "outputs": [
    {
     "name": "stdout",
     "output_type": "stream",
     "text": [
      "dict_keys(['data', 'target', 'frame', 'categories', 'feature_names', 'target_names', 'DESCR', 'details', 'url'])\n"
     ]
    }
   ],
   "source": [
    "from sklearn.datasets import fetch_openml\n",
    "\n",
    "# Load the MNIST dataset\n",
    "mnist = fetch_openml('mnist_784', version=1, parser='auto')\n",
    "\n",
    "# Print the keys of the dataset\n",
    "print(mnist.keys())\n"
   ]
  },
  {
   "cell_type": "code",
   "execution_count": 5,
   "id": "648a9688-4a5e-47fd-8b28-03103f1ad49a",
   "metadata": {},
   "outputs": [
    {
     "data": {
      "text/plain": [
       "(70000, 784)"
      ]
     },
     "execution_count": 5,
     "metadata": {},
     "output_type": "execute_result"
    }
   ],
   "source": [
    "X, y = mnist[\"data\"], mnist[\"target\"]\n",
    "X.shape"
   ]
  },
  {
   "cell_type": "code",
   "execution_count": 6,
   "id": "e6a3fab7-391f-42fe-b176-d8cc4678179e",
   "metadata": {},
   "outputs": [
    {
     "data": {
      "text/plain": [
       "(70000,)"
      ]
     },
     "execution_count": 6,
     "metadata": {},
     "output_type": "execute_result"
    }
   ],
   "source": [
    "y.shape"
   ]
  },
  {
   "cell_type": "markdown",
   "id": "618be0a2-f098-46a9-9a9d-bc8e912b4da9",
   "metadata": {},
   "source": [
    "There are 70,000 images, and each image has 784 features. This is because each image\r\n",
    "is 28 × 28 pixels, and each feature simply represents one pixel’s intensity, from 0\r\n",
    "(white) to 255 (black). "
   ]
  },
  {
   "cell_type": "code",
   "execution_count": 14,
   "id": "6007a256-944b-4ec0-9375-e78c5d83a4af",
   "metadata": {},
   "outputs": [
    {
     "data": {
      "image/png": "[encoded data removed]",
      "text/plain": [
       "<Figure size 640x480 with 1 Axes>"
      ]
     },
     "metadata": {},
     "output_type": "display_data"
    }
   ],
   "source": [
    "import matplotlib.pyplot as plt\n",
    "\n",
    "# Select the first row of the DataFrame and store it in the variable 'some_digit'\n",
    "some_digit = X.iloc[0]\n",
    "\n",
    "# Convert the 'some_digit' Pandas Series to a NumPy array and reshape it to a 28x28 matrix\n",
    "some_digit_image = some_digit.to_numpy().reshape(28, 28)\n",
    "\n",
    "# Display the image using Matplotlib's imshow function\n",
    "# Set the color map to \"binary\" (black and white)\n",
    "plt.imshow(some_digit_image, cmap=\"binary\")\n",
    "plt.axis(\"off\")\n",
    "plt.show()\n"
   ]
  },
  {
   "cell_type": "code",
   "execution_count": 16,
   "id": "479c15cd-405f-477e-b383-724659b77f85",
   "metadata": {},
   "outputs": [
    {
     "data": {
      "text/plain": [
       "'5'"
      ]
     },
     "execution_count": 16,
     "metadata": {},
     "output_type": "execute_result"
    }
   ],
   "source": [
    "y[0]"
   ]
  },
  {
   "cell_type": "markdown",
   "id": "390a24a6-57a1-4103-8f46-74e163bea1ae",
   "metadata": {},
   "source": [
    "Note that the label is a string. Most ML algorithms expect numbers, so let’s cast y to\r\n",
    "integer:"
   ]
  },
  {
   "cell_type": "code",
   "execution_count": 18,
   "id": "071944ff-a1f7-4673-9155-a02bbc3284be",
   "metadata": {},
   "outputs": [],
   "source": [
    "import numpy as np\n",
    "\n",
    "# Assuming 'y' is a variable you want to convert to uint8\n",
    "y = y.astype(np.uint8)\n"
   ]
  },
  {
   "cell_type": "code",
   "execution_count": 19,
   "id": "417aa345-c074-44e6-a71a-0f0e62953667",
   "metadata": {},
   "outputs": [
    {
     "data": {
      "text/plain": [
       "5"
      ]
     },
     "execution_count": 19,
     "metadata": {},
     "output_type": "execute_result"
    }
   ],
   "source": [
    "y[0]"
   ]
  },
  {
   "cell_type": "markdown",
   "id": "d89e089c-cfb1-40d7-906f-9e098a01778b",
   "metadata": {},
   "source": [
    " The MNIST dataset is actually already split into a training set (the first 60,000\r\n",
    "images) and a test set (the last 10,000 images)\n",
    "The training set is already shuffled for us, which is good because this guarantees that\r\n",
    "all cross-validation folds will be similar (you don’t want one fold to be missing some\r\n",
    "digits). Moreover, some learning algorithms are sensitive to the order of the training\r\n",
    "instances, and they perform poorly if they get many similar instances in a row. Shuf‐\r\n",
    "fling the dataset ensures that this won’t ha\n",
    "pShuffling may be a bad idea in some contexts—for example, if you are working on time series data (such as \n",
    "stock market prices or weather conditions).spen:\r"
   ]
  },
  {
   "cell_type": "code",
   "execution_count": 20,
   "id": "3e09d15b-8b61-4139-b792-7995ecabb246",
   "metadata": {},
   "outputs": [],
   "source": [
    "X_train, X_test, y_train, y_test = X[:60000], X[60000:], y[:60000], y[60000:]\n"
   ]
  },
  {
   "cell_type": "markdown",
   "id": "406373ca-0b0a-45c6-8a16-6eb76cd36b29",
   "metadata": {},
   "source": [
    "## Training a Binary Classifier"
   ]
  },
  {
   "cell_type": "code",
   "execution_count": null,
   "id": "c76ebdf3-d5aa-4b41-9c8f-b05074b9bc97",
   "metadata": {},
   "outputs": [],
   "source": []
  }
 ],
 "metadata": {
  "kernelspec": {
   "display_name": "Python 3 (ipykernel)",
   "language": "python",
   "name": "python3"
  },
  "language_info": {
   "codemirror_mode": {
    "name": "ipython",
    "version": 3
   },
   "file_extension": ".py",
   "mimetype": "text/x-python",
   "name": "python",
   "nbconvert_exporter": "python",
   "pygments_lexer": "ipython3",
   "version": "3.10.13"
  }
 },
 "nbformat": 4,
 "nbformat_minor": 5
}
